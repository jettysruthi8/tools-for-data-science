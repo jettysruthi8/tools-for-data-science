{
 "cells": [
  {
   "cell_type": "markdown",
   "id": "94ce6d23-7c96-4f74-a1e2-e55e34984b7d",
   "metadata": {},
   "source": [
    "Data Science Tools and Ecosystem"
   ]
  },
  {
   "cell_type": "markdown",
   "id": "92115ec7-80ea-43b4-a411-e1c7b9533941",
   "metadata": {},
   "source": [
    "In this notebook, Data Science Tools and Ecosystem are summarized."
   ]
  },
  {
   "cell_type": "markdown",
   "id": "cca495d1-7dda-48fb-8b68-be2cb33c9a87",
   "metadata": {},
   "source": [
    "Some of the popular languages that Data Scientists use are:"
   ]
  },
  {
   "cell_type": "markdown",
   "id": "905b63e9-86eb-4f28-ac8c-f4609ac4f02d",
   "metadata": {},
   "source": [
    "Some of the commonly used libraries used by Data Scientists include:"
   ]
  },
  {
   "cell_type": "markdown",
   "id": "447aad54-b848-4437-97b6-b9737db4fd42",
   "metadata": {},
   "source": [
    "Data Science Tools"
   ]
  },
  {
   "cell_type": "markdown",
   "id": "aa553a9b-1e36-4cb3-a41b-268e0135340b",
   "metadata": {},
   "source": [
    "Below are a few examples of evaluating arithmetic expressions in Python"
   ]
  },
  {
   "cell_type": "code",
   "execution_count": 4,
   "id": "9d3b6e09-5dbb-44c6-a340-023319f230b0",
   "metadata": {
    "tags": []
   },
   "outputs": [
    {
     "data": {
      "text/plain": [
       "17"
      ]
     },
     "execution_count": 4,
     "metadata": {},
     "output_type": "execute_result"
    }
   ],
   "source": [
    "#this is a simple arithematic expression to multiply then add integers\n",
    "(3*4)+5"
   ]
  },
  {
   "cell_type": "code",
   "execution_count": 8,
   "id": "6f43dd1e-98a2-425f-ac1a-5068f1ee930d",
   "metadata": {
    "tags": []
   },
   "outputs": [
    {
     "name": "stdout",
     "output_type": "stream",
     "text": [
      "3.3333333333333335\n"
     ]
    }
   ],
   "source": [
    "#this will convert 200 minutes to hours by dividing by 60\n",
    "hrs= 200/60\n",
    "print(hrs)"
   ]
  },
  {
   "cell_type": "markdown",
   "id": "715af411-2aa7-4e19-9f0b-d07106dcc5ac",
   "metadata": {},
   "source": [
    "Objectives:\n",
    "> List popular languages for Data science\n",
    "  . python\n",
    "  .tableau\n",
    "  .git\n",
    "  .r\n",
    "  .java\n",
    "   \n"
   ]
  },
  {
   "cell_type": "markdown",
   "id": "a8abe12d-970e-4db6-8337-506cd0a19bb6",
   "metadata": {},
   "source": [
    "Author \n",
    " name"
   ]
  }
 ],
 "metadata": {
  "kernelspec": {
   "display_name": "Python",
   "language": "python",
   "name": "conda-env-python-py"
  },
  "language_info": {
   "codemirror_mode": {
    "name": "ipython",
    "version": 3
   },
   "file_extension": ".py",
   "mimetype": "text/x-python",
   "name": "python",
   "nbconvert_exporter": "python",
   "pygments_lexer": "ipython3",
   "version": "3.7.12"
  }
 },
 "nbformat": 4,
 "nbformat_minor": 5
}
